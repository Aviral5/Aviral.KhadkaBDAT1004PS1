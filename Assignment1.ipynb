{
 "cells": [
  {
   "cell_type": "markdown",
   "id": "af870092",
   "metadata": {},
   "source": [
    "# Question 1 \n",
    "What data type is each of the following (evaluate where necessary)?"
   ]
  },
  {
   "cell_type": "markdown",
   "id": "f191e680",
   "metadata": {},
   "source": [
    "5\n",
    "5.0\n",
    "5 > 1\n",
    "'5'\n",
    "5 * 2\n",
    "'5' * 2\n",
    "'5' + '2'\n",
    "5 / 2\n",
    "5 % 2\n",
    "{5, 2, 1}\n",
    "5 == 3\n",
    "Pi (the number)"
   ]
  },
  {
   "cell_type": "code",
   "execution_count": null,
   "id": "5b502de5",
   "metadata": {},
   "outputs": [],
   "source": [
    "5 - integer\n",
    "5.0 - float\n",
    "5 > 1 - boolean\n",
    "'5' - string\n",
    "5 * 2 - integer\n",
    "'5' * 2 - string\n",
    "'5' + '2' - string\n",
    "5 / 2 - float\n",
    "5 % 2 - integer\n",
    "{5, 2, 1} - set\n",
    "5 == 3 - boolean\n",
    "Pi (2) - float"
   ]
  },
  {
   "cell_type": "markdown",
   "id": "cb281563",
   "metadata": {},
   "source": [
    "# Question 2\n",
    "\n",
    " Write (and evaluate) python expressions that answer these questions:\n",
    "* a. How many letters are there in 'Supercalifragilisticexpialidocious'?\n"
   ]
  },
  {
   "cell_type": "code",
   "execution_count": 1,
   "id": "259475ae",
   "metadata": {},
   "outputs": [
    {
     "name": "stdout",
     "output_type": "stream",
     "text": [
      "34\n"
     ]
    }
   ],
   "source": [
    "print(len('Supercalifragilisticexpialidocious'))"
   ]
  },
  {
   "cell_type": "markdown",
   "id": "0293beee",
   "metadata": {},
   "source": [
    "* b. Does 'Supercalifragilisticexpialidocious' contain 'ice' as a substring"
   ]
  },
  {
   "cell_type": "code",
   "execution_count": 2,
   "id": "3561c943",
   "metadata": {},
   "outputs": [
    {
     "name": "stdout",
     "output_type": "stream",
     "text": [
      "True\n"
     ]
    }
   ],
   "source": [
    "print('Supercalifragilisticexpialidocious'.find('ice') != -1) "
   ]
  },
  {
   "cell_type": "markdown",
   "id": "745a1e1a",
   "metadata": {},
   "source": [
    "* c. Which of the following words is the longest:Supercalifragilisticexpialidocious, Honorificabilitudinitatibus, orBababadalgharaghtakamminarronnkonn?"
   ]
  },
  {
   "cell_type": "code",
   "execution_count": 3,
   "id": "f63138ea",
   "metadata": {},
   "outputs": [
    {
     "name": "stdout",
     "output_type": "stream",
     "text": [
      "Bababadalgharaghtakamminarronnkonnis the longest word\n"
     ]
    }
   ],
   "source": [
    "string1 = \"Supercalifragilisticexpialidocious\"\n",
    "string2 = \"Honorificabilitudinitatibus\"\n",
    "string3 = \"Bababadalgharaghtakamminarronnkonn\"\n",
    "\n",
    "if len(string1) > len(string2) and len(string1) > len(string3):\n",
    "\tprint(string1 + \"is the longest word\")\n",
    "elif len(string2) > len(string1) and len(string2) > len(string3):\n",
    "\tprint(string2 + \"is the longest word\")\n",
    "else:\n",
    "\tprint(string3 +  \"is the longest word\")"
   ]
  },
  {
   "cell_type": "markdown",
   "id": "2b0721f0",
   "metadata": {},
   "source": [
    "* d.Which composer comes first in the dictionary: 'Berlioz', 'Borodin', 'Brian','Bartok', 'Bellini', 'Buxtehude', 'Bernstein'. Which one comes last?"
   ]
  },
  {
   "cell_type": "code",
   "execution_count": 4,
   "id": "058fcf5c",
   "metadata": {},
   "outputs": [
    {
     "name": "stdout",
     "output_type": "stream",
     "text": [
      "The first composer in the dictionary is: Bartok\n"
     ]
    }
   ],
   "source": [
    "first_composer = min(['Berlioz', 'Borodin', 'Brian','Bartok', 'Bellini', 'Buxtehude', 'Bernstein'])\n",
    "print(\"The first composer in the dictionary is:\", first_composer)"
   ]
  },
  {
   "cell_type": "markdown",
   "id": "2970301f",
   "metadata": {},
   "source": [
    "# Question 3\n",
    "Implement function triangleArea(a,b,c) that takes as input the lengths of the 3sides of a triangle and returns the area of the triangle. By Heron's formula, the areaof a triangle with side lengths a, b, and c iss(s - a)(s - b)(s - c) , wheres = (a + b + c) /2.>>> triangleArea(2,2,2)1.7320508075688772"
   ]
  },
  {
   "cell_type": "code",
   "execution_count": 5,
   "id": "dcee9479",
   "metadata": {},
   "outputs": [
    {
     "data": {
      "text/plain": [
       "1.7320508075688772"
      ]
     },
     "execution_count": 5,
     "metadata": {},
     "output_type": "execute_result"
    }
   ],
   "source": [
    "def triangleArea(a, b, c):\n",
    "    s = (a + b + c) / 2\n",
    "    area = (s * (s - a) * (s - b) * (s - c))**(0.5)\n",
    "    return area\n",
    "\n",
    "triangleArea(2, 2,2)"
   ]
  },
  {
   "cell_type": "markdown",
   "id": "8c1fafce",
   "metadata": {},
   "source": [
    "# Question 4\n",
    "* Write a program in python to separate odd and even integers in separate arrays. Goto the editor\n",
    "* Test Data :\n",
    "* Input the number of elements to be stored in the array :5\n",
    "* Input 5 elements in the array :\n",
    "* element - 0 : 25\n",
    "* element - 1 : 47\n",
    "* element - 2 : 42\n",
    "* element - 3 : 56\n",
    "* element - 4 : 32\n",
    "* Expected Output:The Even elements are:\n",
    "* 42 56 32\n",
    "* The Odd elements are :\n",
    "* 25 47"
   ]
  },
  {
   "cell_type": "code",
   "execution_count": 19,
   "id": "d096a8db",
   "metadata": {},
   "outputs": [
    {
     "name": "stdout",
     "output_type": "stream",
     "text": [
      "The Odd numbers are : [25, 47]\n",
      "The Even numbers are : [42, 56, 32]\n"
     ]
    }
   ],
   "source": [
    "arr = [25, 47, 42, 56, 32] \n",
    "\n",
    "odd = []\n",
    "even = []\n",
    "for i in arr: \n",
    "\tif i% 2 == 0: \n",
    "\t\teven.append(i) \n",
    "\telse : \n",
    "\t\todd.append(i) \n",
    "\t\t\n",
    "print(\"The Odd numbers are :\", odd) \n",
    "print(\"The Even numbers are :\", even)"
   ]
  },
  {
   "cell_type": "markdown",
   "id": "b693eec2",
   "metadata": {},
   "source": [
    "# Question 5\n",
    "* a. Write a function inside(x,y,x1,y1,x2,y2) that returns True or Falsedepending on whether the point (x,y) lies in the rectangle with lower leftcorner (x1,y1) and upper right corner (x2,y2).>>> inside(1,1,0,0,2,3)True>>> inside(-1,-1,0,0,2,3)False\n"
   ]
  },
  {
   "cell_type": "code",
   "execution_count": 7,
   "id": "fde6ccac",
   "metadata": {},
   "outputs": [
    {
     "data": {
      "text/plain": [
       "True"
      ]
     },
     "execution_count": 7,
     "metadata": {},
     "output_type": "execute_result"
    }
   ],
   "source": [
    "def inside(x,y,x1,y1,x2,y2):\n",
    "    if x1 <= x <= x2 and y1 <= y <= y2:\n",
    "        return True\n",
    "    else:\n",
    "        return False\n",
    "    \n",
    "inside(1,1,0,0,2,3)"
   ]
  },
  {
   "cell_type": "markdown",
   "id": "d4c33d04",
   "metadata": {},
   "source": [
    "* b. Use function inside() from part a. to write an expression that tests whetherthe point (1,1) lies in both of the following rectangles: one with lower leftcorner (0.3, 0.5) and upper right corner (1.1, 0.7) and the other with lowerleft corner (0.5, 0.2) and upper right corner (1.1, 2)"
   ]
  },
  {
   "cell_type": "code",
   "execution_count": 8,
   "id": "b1272f6a",
   "metadata": {},
   "outputs": [
    {
     "data": {
      "text/plain": [
       "False"
      ]
     },
     "execution_count": 8,
     "metadata": {},
     "output_type": "execute_result"
    }
   ],
   "source": [
    "inside(-1,-1,0,0,2,3)"
   ]
  },
  {
   "cell_type": "markdown",
   "id": "467c8b83",
   "metadata": {},
   "source": [
    "# Question 6\n",
    "16. You can turn a word into pig-Latin using the following two rules (simplified):\n",
    "* • If the word starts with a consonant, move that letter to the end and append'ay'. For example, 'happy' becomes 'appyhay' and 'pencil' becomes 'encilpay'.\n",
    "* • If the word starts with a vowel, simply append 'way' to the end of the word.For example, 'enter' becomes 'enterway' and 'other' becomes 'otherway' . Forour purposes, there are 5 vowels: a, e, i, o, u (so we count y as a consonant)\n",
    "* .Write a function pig() that takes a word (i.e., a string) as input and returns its pig-Latin form. Your function should still work if the input word contains upper casecharacters. Your output should always be lower case however.>>> pig('happy')'appyhay'>>> pig('Enter')'enterway"
   ]
  },
  {
   "cell_type": "code",
   "execution_count": 9,
   "id": "81bfab70",
   "metadata": {},
   "outputs": [
    {
     "name": "stdout",
     "output_type": "stream",
     "text": [
      "appyhay\n",
      "enterway\n"
     ]
    }
   ],
   "source": [
    "def pig(s):\n",
    "    a= s.lower()\n",
    "    x=a[0]\n",
    "    if(x in \"aeiou\"):\n",
    "        return (a+\"way\")\n",
    "    else:\n",
    "        return (a[1:]+a[0]+\"ay\")\n",
    "print(pig(\"happy\"))\n",
    "print(pig(\"Enter\"))"
   ]
  },
  {
   "cell_type": "markdown",
   "id": "ebca5410",
   "metadata": {},
   "source": [
    "# Question 7\n",
    "File bloodtype1.txt records blood-types of patients (A, B, AB, O or OO) at a clinic.Write a function bldcount() that reads the file with name name and reports (i.e.,prints) how many patients there are in each bloodtype. >>> bldcount('bloodtype.txt')\n",
    "* There are 10 patients of blood type A.\n",
    "* There is one patient of blood type B.\n",
    "* There are 10 patients of blood type AB.\n",
    "* There are 12 patients of blood type O.\n",
    "* There are no patients of blood type OO."
   ]
  },
  {
   "cell_type": "code",
   "execution_count": 25,
   "id": "6de98dae",
   "metadata": {},
   "outputs": [
    {
     "name": "stdout",
     "output_type": "stream",
     "text": [
      "There are 15 patients of bloodtype A\n",
      "There are 1 patients of bloodtype B\n",
      "There are 13 patients of bloodtype AB\n",
      "There are 15 patients of bloodtype O\n",
      "There are 0 patients of bloodtype OO\n"
     ]
    }
   ],
   "source": [
    "def bldcount(s):\n",
    "    file = open(s)\n",
    "    data = file.read()\n",
    "    bloodtypes = data.strip().split()\n",
    "    valid_bloodtypes = [\"A\", \"B\", \"AB\", \"O\", \"OO\"]\n",
    "    counts = [0,0,0,0,0]\n",
    "    for bloodtype in bloodtypes:\n",
    "        if bloodtype in valid_bloodtypes:\n",
    "            index = valid_bloodtypes.index(bloodtype)\n",
    "            counts[index] += 1\n",
    "    for i, bloodtype in enumerate(valid_bloodtypes):\n",
    "        print(\"There are\", counts[i], \"patients of bloodtype\", bloodtype)\n",
    "bldcount(\"dataset/bloodtype1.txt\")"
   ]
  },
  {
   "cell_type": "markdown",
   "id": "c0d9cc1f",
   "metadata": {},
   "source": [
    "# Question 8\n",
    "Write a function curconv() that takes as input:\n",
    "* 1. a currency represented using a string (e.g., 'JPY' for the Japanese Yen or'EUR' for the Euro)\n",
    "* 2. an amount\n",
    " * and then converts and returns the amount in US dollars.>>> curconv('EUR', 100)122.96544>>> curconv('JPY', 100)1.241401\n",
    "* The currency rates you will need are stored in file currencies.txt\n",
    "* :AUD 1.0345157 Australian Dollar\n",
    "* CHF 1.0237414 Swiss Franc\n",
    "* CNY 0.1550176 Chinese Yua\n",
    "* DKK 0.1651442 Danish Krone\n",
    "* EUR 1.2296544 Euro\n",
    "* GBP 1.5550989 British Pound\n",
    "* HKD 0.1270207 Hong Kong Dollar\n",
    "* INR 0.0177643 Indian Rupee\n",
    "* JPY 0.01241401 Japanese Yen\n",
    "* MXN 0.0751848 Mexican Peso\n",
    "* MYR 0.3145411 Malaysian Ringgit\n",
    "* NOK 0.1677063 Norwegian Krone\n",
    "* NZD 0.8003591 New Zealand Dollar\n",
    "* PHP 0.0233234 Philippine Peso\n",
    "* SEK 0.148269 Swedish Krona\n",
    "* SGD 0.788871 Singapore Dollar\n",
    "* THB 0.0313789 Thai Baht"
   ]
  },
  {
   "cell_type": "code",
   "execution_count": 26,
   "id": "61842559",
   "metadata": {},
   "outputs": [
    {
     "name": "stdout",
     "output_type": "stream",
     "text": [
      "Converted amount in USD: 122.96544\n",
      "Converted amount in USD: 1.241401\n"
     ]
    }
   ],
   "source": [
    "def curConv(Currency, value):\n",
    "    f = open(\"dataset/currencies.txt\")\n",
    "    lines = f.readlines()\n",
    "    for line in lines:\n",
    "        s = line.strip().split('\\t')\n",
    "        code = s[0]\n",
    "        convFactor = float(s[1])\n",
    "        name = s[2]\n",
    "        \n",
    "        if Currency == code:\n",
    "            return value * convFactor\n",
    "    \n",
    "print(\"Converted amount in USD:\", curConv('EUR', 100))\n",
    "print(\"Converted amount in USD:\", curConv('JPY', 100))"
   ]
  },
  {
   "cell_type": "markdown",
   "id": "b2566d2d",
   "metadata": {},
   "source": [
    "# Question 9\n",
    "* Each of the following will cause an exception (an error). Identify what type ofexception each will cause.\n",
    "* Trying to add incompatible variables, as inadding 6 + ‘a’\n",
    "\n"
   ]
  },
  {
   "cell_type": "code",
   "execution_count": 22,
   "id": "eed78fb9",
   "metadata": {},
   "outputs": [
    {
     "ename": "TypeError",
     "evalue": "unsupported operand type(s) for +: 'int' and 'str'",
     "output_type": "error",
     "traceback": [
      "\u001b[1;31m---------------------------------------------------------------------------\u001b[0m",
      "\u001b[1;31mTypeError\u001b[0m                                 Traceback (most recent call last)",
      "Cell \u001b[1;32mIn[22], line 1\u001b[0m\n\u001b[1;32m----> 1\u001b[0m \u001b[38;5;241m6\u001b[39m \u001b[38;5;241m+\u001b[39m \u001b[38;5;124m'\u001b[39m\u001b[38;5;124ma\u001b[39m\u001b[38;5;124m'\u001b[39m\n",
      "\u001b[1;31mTypeError\u001b[0m: unsupported operand type(s) for +: 'int' and 'str'"
     ]
    }
   ],
   "source": [
    "6 + 'a'\n"
   ]
  },
  {
   "cell_type": "markdown",
   "id": "1cf51503",
   "metadata": {},
   "source": [
    "* Referring to the 12th item of a list that has only 10items"
   ]
  },
  {
   "cell_type": "code",
   "execution_count": 14,
   "id": "e885f2fb",
   "metadata": {},
   "outputs": [
    {
     "ename": "IndexError",
     "evalue": "list index out of range",
     "output_type": "error",
     "traceback": [
      "\u001b[1;31m---------------------------------------------------------------------------\u001b[0m",
      "\u001b[1;31mIndexError\u001b[0m                                Traceback (most recent call last)",
      "Cell \u001b[1;32mIn[14], line 2\u001b[0m\n\u001b[0;32m      1\u001b[0m a\u001b[38;5;241m=\u001b[39m[\u001b[38;5;241m1\u001b[39m,\u001b[38;5;241m2\u001b[39m,\u001b[38;5;241m3\u001b[39m,\u001b[38;5;241m4\u001b[39m,\u001b[38;5;241m5\u001b[39m,\u001b[38;5;241m6\u001b[39m,\u001b[38;5;241m7\u001b[39m,\u001b[38;5;241m8\u001b[39m,\u001b[38;5;241m9\u001b[39m,\u001b[38;5;241m10\u001b[39m,\u001b[38;5;241m11\u001b[39m]\n\u001b[1;32m----> 2\u001b[0m \u001b[38;5;28mprint\u001b[39m(a[\u001b[38;5;241m12\u001b[39m])\n",
      "\u001b[1;31mIndexError\u001b[0m: list index out of range"
     ]
    }
   ],
   "source": [
    "a=[1,2,3,4,5,6,7,8,9,10,11]\n",
    "print(a[12])"
   ]
  },
  {
   "cell_type": "markdown",
   "id": "8152d2cf",
   "metadata": {},
   "source": [
    "* Using a value that is out of range for a function’sinput, such as calling math.sqrt(-1.0"
   ]
  },
  {
   "cell_type": "code",
   "execution_count": 15,
   "id": "8cd28d13",
   "metadata": {},
   "outputs": [
    {
     "ename": "ValueError",
     "evalue": "math domain error",
     "output_type": "error",
     "traceback": [
      "\u001b[1;31m---------------------------------------------------------------------------\u001b[0m",
      "\u001b[1;31mValueError\u001b[0m                                Traceback (most recent call last)",
      "Cell \u001b[1;32mIn[15], line 2\u001b[0m\n\u001b[0;32m      1\u001b[0m \u001b[38;5;28;01mimport\u001b[39;00m \u001b[38;5;21;01mmath\u001b[39;00m\n\u001b[1;32m----> 2\u001b[0m math\u001b[38;5;241m.\u001b[39msqrt(\u001b[38;5;241m-\u001b[39m\u001b[38;5;241m1.0\u001b[39m)\n",
      "\u001b[1;31mValueError\u001b[0m: math domain error"
     ]
    }
   ],
   "source": [
    "import math\n",
    "math.sqrt(-1.0)"
   ]
  },
  {
   "cell_type": "markdown",
   "id": "e2f3327b",
   "metadata": {},
   "source": [
    "* Using an undeclared variable, such as print(x)when x has not been defined"
   ]
  },
  {
   "cell_type": "code",
   "execution_count": 16,
   "id": "92ec74f4",
   "metadata": {},
   "outputs": [
    {
     "ename": "NameError",
     "evalue": "name 'x' is not defined",
     "output_type": "error",
     "traceback": [
      "\u001b[1;31m---------------------------------------------------------------------------\u001b[0m",
      "\u001b[1;31mNameError\u001b[0m                                 Traceback (most recent call last)",
      "Cell \u001b[1;32mIn[16], line 1\u001b[0m\n\u001b[1;32m----> 1\u001b[0m \u001b[38;5;28mprint\u001b[39m(x)\n",
      "\u001b[1;31mNameError\u001b[0m: name 'x' is not defined"
     ]
    }
   ],
   "source": [
    "print(x)"
   ]
  },
  {
   "cell_type": "markdown",
   "id": "99679590",
   "metadata": {},
   "source": [
    "* Trying to open a file that does not exist, such asmistyping the file name or looking in the wrongdirector"
   ]
  },
  {
   "cell_type": "code",
   "execution_count": 17,
   "id": "ef7a5f52",
   "metadata": {},
   "outputs": [
    {
     "ename": "FileNotFoundError",
     "evalue": "[Errno 2] No such file or directory: 'f.txt'",
     "output_type": "error",
     "traceback": [
      "\u001b[1;31m---------------------------------------------------------------------------\u001b[0m",
      "\u001b[1;31mFileNotFoundError\u001b[0m                         Traceback (most recent call last)",
      "Cell \u001b[1;32mIn[17], line 1\u001b[0m\n\u001b[1;32m----> 1\u001b[0m \u001b[38;5;28mopen\u001b[39m(\u001b[38;5;124m'\u001b[39m\u001b[38;5;124mf.txt\u001b[39m\u001b[38;5;124m'\u001b[39m)\n",
      "File \u001b[1;32m~\\anaconda3\\Lib\\site-packages\\IPython\\core\\interactiveshell.py:284\u001b[0m, in \u001b[0;36m_modified_open\u001b[1;34m(file, *args, **kwargs)\u001b[0m\n\u001b[0;32m    277\u001b[0m \u001b[38;5;28;01mif\u001b[39;00m file \u001b[38;5;129;01min\u001b[39;00m {\u001b[38;5;241m0\u001b[39m, \u001b[38;5;241m1\u001b[39m, \u001b[38;5;241m2\u001b[39m}:\n\u001b[0;32m    278\u001b[0m     \u001b[38;5;28;01mraise\u001b[39;00m \u001b[38;5;167;01mValueError\u001b[39;00m(\n\u001b[0;32m    279\u001b[0m         \u001b[38;5;124mf\u001b[39m\u001b[38;5;124m\"\u001b[39m\u001b[38;5;124mIPython won\u001b[39m\u001b[38;5;124m'\u001b[39m\u001b[38;5;124mt let you open fd=\u001b[39m\u001b[38;5;132;01m{\u001b[39;00mfile\u001b[38;5;132;01m}\u001b[39;00m\u001b[38;5;124m by default \u001b[39m\u001b[38;5;124m\"\u001b[39m\n\u001b[0;32m    280\u001b[0m         \u001b[38;5;124m\"\u001b[39m\u001b[38;5;124mas it is likely to crash IPython. If you know what you are doing, \u001b[39m\u001b[38;5;124m\"\u001b[39m\n\u001b[0;32m    281\u001b[0m         \u001b[38;5;124m\"\u001b[39m\u001b[38;5;124myou can use builtins\u001b[39m\u001b[38;5;124m'\u001b[39m\u001b[38;5;124m open.\u001b[39m\u001b[38;5;124m\"\u001b[39m\n\u001b[0;32m    282\u001b[0m     )\n\u001b[1;32m--> 284\u001b[0m \u001b[38;5;28;01mreturn\u001b[39;00m io_open(file, \u001b[38;5;241m*\u001b[39margs, \u001b[38;5;241m*\u001b[39m\u001b[38;5;241m*\u001b[39mkwargs)\n",
      "\u001b[1;31mFileNotFoundError\u001b[0m: [Errno 2] No such file or directory: 'f.txt'"
     ]
    }
   ],
   "source": [
    "open('f.txt')"
   ]
  },
  {
   "cell_type": "markdown",
   "id": "512677c0",
   "metadata": {},
   "source": [
    "# Question 10\n",
    "Encryption is the process of hiding the meaning of a text by substituting letters in themessage with other letters, according to some system. If the process is successful, noone but the intended recipient can understand the encrypted message. Cryptanalysisrefers to attempts to undo the encryption, even if some details of the encryption areunknown (for example, if an encrypted message has been intercepted). The first stepof cryptanalysis is often to build up a table of letter frequencies in the encrypted text.Assume that the string letters is already defined as'abcdefghijklmnopqrstuvwxyz'. Write a function called frequencies()that takes a string as its only parameter, and returns a list of integers, showing thenumber of times each character appears in the text. Your function may ignore anycharacters that are not in letters>>> frequencies('The quick red fox got bored and went home.')[1, 1, 1, 3, 5, 1, 1, 2, 1, 0, 1, 0, 1, 2, 4, 0, 1, 2, 0, 2,1, 0, 1, 1, 0, 0]>>> frequencies('apple')"
   ]
  },
  {
   "cell_type": "code",
   "execution_count": 18,
   "id": "e1d35c7e",
   "metadata": {},
   "outputs": [
    {
     "name": "stdout",
     "output_type": "stream",
     "text": [
      "[1, 1, 1, 3, 5, 1, 1, 2, 1, 0, 1, 0, 1, 2, 4, 0, 1, 2, 0, 2, 1, 0, 1, 1, 0, 0]\n",
      "[1, 0, 0, 0, 1, 0, 0, 0, 0, 0, 0, 1, 0, 0, 0, 2, 0, 0, 0, 0, 0, 0, 0, 0, 0, 0]\n"
     ]
    }
   ],
   "source": [
    "def frequencies(s):\n",
    "    letters= 'abcdefghijklmnopqrstuvwxyz'\n",
    "    f=[0]*26\n",
    "    for x in s :\n",
    "        if x in letters:\n",
    "            f[ord(x)-ord('a')]=f[ord(x)-ord('a')]+1\n",
    "    return f\n",
    "print(frequencies('The quick red fox got bored and went home.'))\n",
    "print(frequencies('apple'))\n",
    "            "
   ]
  },
  {
   "cell_type": "code",
   "execution_count": null,
   "id": "d6284d3d",
   "metadata": {},
   "outputs": [],
   "source": []
  }
 ],
 "metadata": {
  "kernelspec": {
   "display_name": "Python 3 (ipykernel)",
   "language": "python",
   "name": "python3"
  },
  "language_info": {
   "codemirror_mode": {
    "name": "ipython",
    "version": 3
   },
   "file_extension": ".py",
   "mimetype": "text/x-python",
   "name": "python",
   "nbconvert_exporter": "python",
   "pygments_lexer": "ipython3",
   "version": "3.11.4"
  }
 },
 "nbformat": 4,
 "nbformat_minor": 5
}
